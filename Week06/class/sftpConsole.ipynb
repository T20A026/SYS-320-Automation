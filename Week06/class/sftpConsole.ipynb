{
 "cells": [
  {
   "cell_type": "code",
   "execution_count": 9,
   "metadata": {},
   "outputs": [],
   "source": [
    "from multiprocessing import AuthenticationError\n",
    "import paramiko\n",
    "from getpass import getpass\n",
    "\n",
    "# Creating password prompt\n",
    "thePass = getpass(prompt = \"Please enter your SSH Password\")\n",
    "\n",
    "#Host information\n",
    "host = \"184.171.157.99\"\n",
    "port = 22\n",
    "username = \"super\"\n",
    "password = thePass\n",
    "\n",
    "try:\n",
    "    ssh = paramiko.SSHClient()\n",
    "    ssh.set_missing_host_key_policy(paramiko.AutoAddPolicy())\n",
    "    ssh.connect(host, port, username, password)\n",
    "\n",
    "except paramiko.AuthenticationException:\n",
    "    print(\"Authentication Failed\")\n"
   ]
  },
  {
   "cell_type": "code",
   "execution_count": 21,
   "metadata": {},
   "outputs": [],
   "source": [
    "# Open stfp\n",
    "sftp = ssh.open_sftp()\n",
    "\n",
    "#List of files\n",
    "files = ['/etc/hosts', '/etc/passwd', '/var/log/dnf.log']\n",
    "\n",
    "# Download host files\n",
    "for eachFile in files:\n",
    "\n",
    "    # Create a list from filename\n",
    "    x = eachFile.split(\"/\")\n",
    "\n",
    "    # Removes file name from directory list\n",
    "    filename = x[-1]\n",
    "\n",
    "    # Setting Path for Output files\n",
    "    local_path = \"remote_files/\" + filename\n",
    "    sftp.get(eachFile, local_path)\n",
    "\n",
    "ssh.close()"
   ]
  }
 ],
 "metadata": {
  "kernelspec": {
   "display_name": "Python 3.10.7 64-bit (microsoft store)",
   "language": "python",
   "name": "python3"
  },
  "language_info": {
   "codemirror_mode": {
    "name": "ipython",
    "version": 3
   },
   "file_extension": ".py",
   "mimetype": "text/x-python",
   "name": "python",
   "nbconvert_exporter": "python",
   "pygments_lexer": "ipython3",
   "version": "3.10.7"
  },
  "orig_nbformat": 4,
  "vscode": {
   "interpreter": {
    "hash": "2cad6752933ee25ddf28b116e8733a065fe50e6911eba0b3d9d628be6ec2407e"
   }
  }
 },
 "nbformat": 4,
 "nbformat_minor": 2
}
