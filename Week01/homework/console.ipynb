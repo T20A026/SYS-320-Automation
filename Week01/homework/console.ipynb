{
 "cells": [
  {
   "cell_type": "code",
   "execution_count": 8,
   "metadata": {},
   "outputs": [],
   "source": [
    "import syslogKlogind\n",
    "import syslogSSHAuth"
   ]
  },
  {
   "cell_type": "markdown",
   "metadata": {},
   "source": [
    "# Klogind failures"
   ]
  },
  {
   "cell_type": "code",
   "execution_count": 2,
   "metadata": {},
   "outputs": [
    {
     "name": "stdout",
     "output_type": "stream",
     "text": [
      "163.27.187.39\n"
     ]
    }
   ],
   "source": [
    "syslogKlogind.login_fail('../../logs/Linux_2k.log',['klogind.* Authentication failed from.*']) "
   ]
  },
  {
   "cell_type": "markdown",
   "metadata": {},
   "source": [
    "# SSH user Authentications"
   ]
  },
  {
   "cell_type": "code",
   "execution_count": 10,
   "metadata": {},
   "outputs": [
    {
     "name": "stdout",
     "output_type": "stream",
     "text": [
      "test\n"
     ]
    }
   ],
   "source": [
    "syslogSSHAuth.ssh_auth('../../logs/Linux_2k.log',['combo sshd.* session opened for user.*']) "
   ]
  },
  {
   "cell_type": "markdown",
   "metadata": {},
   "source": [
    "### What is your interpretation of the users that authenticated to SSH based on the usernames?  The context is that you are a security analyst and checking your log files for anomalies."
   ]
  },
  {
   "cell_type": "markdown",
   "metadata": {},
   "source": [
    "##### From the information that this script returned only one user under the name \"test\" who tried to access the system via ssh multiple times and failed. From my standpoint, I would see this as someone trying to use a very normal username to test some possibly phished credentials, or to brute force if this had been happening over a long period of time."
   ]
  },
  {
   "cell_type": "markdown",
   "metadata": {},
   "source": [
    "### What did you like the most and least about the lab?"
   ]
  },
  {
   "cell_type": "markdown",
   "metadata": {},
   "source": [
    "##### I liked the resources we used, and how this was a very nice refresher for python, I can see myself building on this code and using it in the workplace, as this could eb easily adapted to sift through windows Active Directory, and event logs."
   ]
  }
 ],
 "metadata": {
  "kernelspec": {
   "display_name": "Python 3.10.6 64-bit (windows store)",
   "language": "python",
   "name": "python3"
  },
  "language_info": {
   "codemirror_mode": {
    "name": "ipython",
    "version": 3
   },
   "file_extension": ".py",
   "mimetype": "text/x-python",
   "name": "python",
   "nbconvert_exporter": "python",
   "pygments_lexer": "ipython3",
   "version": "3.10.6"
  },
  "orig_nbformat": 4,
  "vscode": {
   "interpreter": {
    "hash": "2cad6752933ee25ddf28b116e8733a065fe50e6911eba0b3d9d628be6ec2407e"
   }
  }
 },
 "nbformat": 4,
 "nbformat_minor": 2
}
