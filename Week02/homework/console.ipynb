{
 "cells": [
  {
   "cell_type": "code",
   "execution_count": 98,
   "metadata": {},
   "outputs": [
    {
     "data": {
      "text/plain": [
       "<module 'proxyLog' from 'c:\\\\Users\\\\abija\\\\Documents\\\\VisualStudio\\\\SYS-320-Automation\\\\Week02\\\\homework\\\\proxyLog.py'>"
      ]
     },
     "execution_count": 98,
     "metadata": {},
     "output_type": "execute_result"
    }
   ],
   "source": [
    "import apacheLog\n",
    "import proxyLog\n",
    "import importlib\n",
    "importlib.reload(apacheLog)\n",
    "importlib.reload(proxyLog)\n"
   ]
  },
  {
   "cell_type": "markdown",
   "metadata": {},
   "source": [
    "## Apache Proxy log Events "
   ]
  },
  {
   "cell_type": "markdown",
   "metadata": {},
   "source": [
    "### QQ Log Entires"
   ]
  },
  {
   "cell_type": "code",
   "execution_count": 99,
   "metadata": {},
   "outputs": [
    {
     "name": "stdout",
     "output_type": "stream",
     "text": [
      "QQ.exe tcpconn.tencent.com:80 133 sent 0 received\n",
      "QQ.exe tcpconn6.tencent.com:80 0 sent 0 received\n",
      "QQExternal.exe proxy.cse.cuhk.edu.hk:5070 1644 sent 388 received\n",
      "QQ.exe tcpconn3.tencent.com:80 0 sent 0 received\n",
      "QQ.exe tcpconn3.tencent.com:443 149 sent 121 received\n",
      "QQ.exe tcpconn6.tencent.com:443 0 sent 0 received\n"
     ]
    }
   ],
   "source": [
    "proxyLog.proxy_closed('../../logs/Proxifier_2k.log', 'proxy', 'QQClosed')"
   ]
  },
  {
   "cell_type": "markdown",
   "metadata": {},
   "source": [
    "### QQ Proxies Opened"
   ]
  },
  {
   "cell_type": "code",
   "execution_count": 97,
   "metadata": {},
   "outputs": [
    {
     "name": "stdout",
     "output_type": "stream",
     "text": [
      "QQ.exe 183.60.49.182:443 open through proxy proxy.cse.cuhk.edu.hk:5070\n",
      "QQ.exe tcpconn.tencent.com:80 open through proxy proxy.cse.cuhk.edu.hk:5070\n",
      "QQ.exe tcpconn3.tencent.com:443 open through proxy proxy.cse.cuhk.edu.hk:5070\n",
      "QQ.exe tcpconn6.tencent.com:443 open through proxy proxy.cse.cuhk.edu.hk:5070\n",
      "QQ.exe tcpconn6.tencent.com:80 open through proxy proxy.cse.cuhk.edu.hk:5070\n"
     ]
    }
   ],
   "source": [
    "proxyLog.proxy_opened('../../logs/Proxifier_2k.log', 'proxy', 'QQOpened')"
   ]
  },
  {
   "cell_type": "markdown",
   "metadata": {},
   "source": [
    "### Apache Log PHP"
   ]
  },
  {
   "cell_type": "code",
   "execution_count": 47,
   "metadata": {},
   "outputs": [
    {
     "name": "stdout",
     "output_type": "stream",
     "text": [
      "GET 404 /mediawiki/index.php?title=Main_Page\n",
      "GET 404 /wordpress/wp-login.php\n"
     ]
    }
   ],
   "source": [
    "apacheLog.appache_events('../../logs/access.log', 'apache', 'php')"
   ]
  },
  {
   "cell_type": "markdown",
   "metadata": {},
   "source": [
    "### Appache Log CGI"
   ]
  },
  {
   "cell_type": "code",
   "execution_count": 48,
   "metadata": {},
   "outputs": [
    {
     "name": "stdout",
     "output_type": "stream",
     "text": [
      "GET 404 /cgi-bin/htsearch?Exclude=%60/etc/passwd%60\n",
      "POST 404 /cgi-bin/test-cgi\n",
      "GET 404 /cgi-bin/test-cgi\n"
     ]
    }
   ],
   "source": [
    "apacheLog.appache_events('../../logs/access.log', 'apache', 'cgi')"
   ]
  },
  {
   "cell_type": "markdown",
   "metadata": {},
   "source": [
    "## Lab Questions"
   ]
  },
  {
   "cell_type": "markdown",
   "metadata": {},
   "source": [
    "1. What is your interpretation of the results that you discovered (Did the files match known threat intell information?  Was there activity to and from the same remote host?)\n",
    "    Yes there are proxies opening and closing form \"QQ.exe\" without normal activity or a related domain, and there was activity to and from the same host.\n",
    "\n",
    "2. What did you like the most and least about this assignment? NOTE: These help me understand how to improve on assignments and know what is working.)\n",
    "    I liked the experience i gained in  filtering plaintext using regex, and the use of yaml files for input parameters.\n",
    "\n",
    "3. What additional questions do you have about this week's material?\n",
    "    No."
   ]
  }
 ],
 "metadata": {
  "kernelspec": {
   "display_name": "Python 3.10.6 64-bit (windows store)",
   "language": "python",
   "name": "python3"
  },
  "language_info": {
   "codemirror_mode": {
    "name": "ipython",
    "version": 3
   },
   "file_extension": ".py",
   "mimetype": "text/x-python",
   "name": "python",
   "nbconvert_exporter": "python",
   "pygments_lexer": "ipython3",
   "version": "3.10.7"
  },
  "orig_nbformat": 4,
  "vscode": {
   "interpreter": {
    "hash": "2cad6752933ee25ddf28b116e8733a065fe50e6911eba0b3d9d628be6ec2407e"
   }
  }
 },
 "nbformat": 4,
 "nbformat_minor": 2
}
