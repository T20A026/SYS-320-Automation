{
 "cells": [
  {
   "cell_type": "code",
   "execution_count": 6,
   "metadata": {},
   "outputs": [
    {
     "data": {
      "text/plain": [
       "<module 'apacheLog' from 'c:\\\\Users\\\\abija\\\\Documents\\\\VisualStudio\\\\SYS-320-Automation\\\\Week02\\\\homework\\\\apacheLog.py'>"
      ]
     },
     "execution_count": 6,
     "metadata": {},
     "output_type": "execute_result"
    }
   ],
   "source": [
    "import apacheLog\n",
    "import importlib\n",
    "importlib.reload(apacheLog)\n"
   ]
  },
  {
   "cell_type": "markdown",
   "metadata": {},
   "source": [
    "### Apache Log QQ Entires"
   ]
  },
  {
   "cell_type": "code",
   "execution_count": 7,
   "metadata": {},
   "outputs": [
    {
     "name": "stdout",
     "output_type": "stream",
     "text": [
      "QQ.exe tcpconn6.tencent.com:443 0 sent 0 received\n",
      "QQ.exe tcpconn6.tencent.com:80 0 sent 0 received\n",
      "QQ.exe tcpconn3.tencent.com:443 149 sent 121 received\n",
      "QQProtectUpd.exe qdun-data.qq.com:443 261 sent 70 received\n",
      "QQ.exe cgi.qqweb.qq.com:80 477 sent 448 received\n",
      "QQExternal.exe proxy.cse.cuhk.edu.hk:5070 1644 sent KB) received\n",
      "QQ.exe 2052.flash2-http.qq.com:80 466 sent 125682 received\n",
      "QQ.exe qqmail.tencent.com:80 336 sent 2854 received\n",
      "QQ.exe showxml.qq.com:80 600 sent 1716 received\n",
      "QQ.exe tcpconn3.tencent.com:80 0 sent 0 received\n",
      "QQ.exe tcpconn.tencent.com:80 133 sent 0 received\n"
     ]
    }
   ],
   "source": [
    "apacheLog.appache_events('../../logs/Proxifier_2k.log', 'apache', 'QQ')"
   ]
  },
  {
   "cell_type": "markdown",
   "metadata": {},
   "source": [
    "### Apache Log QQ Opened"
   ]
  },
  {
   "cell_type": "code",
   "execution_count": 5,
   "metadata": {},
   "outputs": [
    {
     "name": "stdout",
     "output_type": "stream",
     "text": [
      "QQProtectUpd.exe open through proxy\n",
      "QQPlayer.exe open through proxy\n",
      "QQ.exe open through proxy\n"
     ]
    }
   ],
   "source": [
    "apacheLog.appache_events('../../logs/Proxifier_2k.log', 'apache', 'QQOpened')"
   ]
  }
 ],
 "metadata": {
  "kernelspec": {
   "display_name": "Python 3.10.6 64-bit (windows store)",
   "language": "python",
   "name": "python3"
  },
  "language_info": {
   "codemirror_mode": {
    "name": "ipython",
    "version": 3
   },
   "file_extension": ".py",
   "mimetype": "text/x-python",
   "name": "python",
   "nbconvert_exporter": "python",
   "pygments_lexer": "ipython3",
   "version": "3.10.7"
  },
  "orig_nbformat": 4,
  "vscode": {
   "interpreter": {
    "hash": "2cad6752933ee25ddf28b116e8733a065fe50e6911eba0b3d9d628be6ec2407e"
   }
  }
 },
 "nbformat": 4,
 "nbformat_minor": 2
}
