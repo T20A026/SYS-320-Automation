{
 "cells": [
  {
   "cell_type": "code",
   "execution_count": 55,
   "metadata": {},
   "outputs": [
    {
     "data": {
      "text/plain": [
       "<module 'apacheLog' from 'c:\\\\Users\\\\abija\\\\OneDrive\\\\File Saves\\\\Documents\\\\VSGithubs\\\\SYS-320-Automation\\\\Week02\\\\homework\\\\apacheLog.py'>"
      ]
     },
     "execution_count": 55,
     "metadata": {},
     "output_type": "execute_result"
    }
   ],
   "source": [
    "import apacheLog\n",
    "import importlib\n",
    "importlib.reload(apacheLog)\n"
   ]
  },
  {
   "cell_type": "markdown",
   "metadata": {},
   "source": [
    "### Apache Log QQ Entires"
   ]
  },
  {
   "cell_type": "code",
   "execution_count": 56,
   "metadata": {},
   "outputs": [
    {
     "name": "stdout",
     "output_type": "stream",
     "text": [
      "QQExternal.exe 1644 sent KB) recived\n",
      "QQ.exe 336 sent 2854 recived\n",
      "QQ.exe 466 sent 125682 recived\n",
      "QQProtectUpd.exe 261 sent 70 recived\n",
      "QQ.exe 149 sent 121 recived\n",
      "QQ.exe 0 sent 0 recived\n",
      "QQ.exe 600 sent 1716 recived\n",
      "QQ.exe 133 sent 0 recived\n",
      "QQ.exe 477 sent 448 recived\n"
     ]
    }
   ],
   "source": [
    "apacheLog.appache_events('../../logs/Proxifier_2k.log', 'apache', 'QQ')"
   ]
  },
  {
   "cell_type": "markdown",
   "metadata": {},
   "source": [
    "### Apache Log QQ Closed"
   ]
  },
  {
   "cell_type": "code",
   "execution_count": 38,
   "metadata": {},
   "outputs": [
    {
     "name": "stdout",
     "output_type": "stream",
     "text": [
      "QQ.exe open through proxy\n",
      "QQProtectUpd.exe open through proxy\n",
      "QQPlayer.exe open through proxy\n"
     ]
    }
   ],
   "source": [
    "apacheLog.appache_events('../../logs/Proxifier_2k.log', 'apache', 'QQOpened')"
   ]
  }
 ],
 "metadata": {
  "kernelspec": {
   "display_name": "Python 3.10.6 64-bit (windows store)",
   "language": "python",
   "name": "python3"
  },
  "language_info": {
   "codemirror_mode": {
    "name": "ipython",
    "version": 3
   },
   "file_extension": ".py",
   "mimetype": "text/x-python",
   "name": "python",
   "nbconvert_exporter": "python",
   "pygments_lexer": "ipython3",
   "version": "3.10.6"
  },
  "orig_nbformat": 4,
  "vscode": {
   "interpreter": {
    "hash": "2cad6752933ee25ddf28b116e8733a065fe50e6911eba0b3d9d628be6ec2407e"
   }
  }
 },
 "nbformat": 4,
 "nbformat_minor": 2
}
